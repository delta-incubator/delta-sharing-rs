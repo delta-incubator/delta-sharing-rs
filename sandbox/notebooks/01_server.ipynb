{
 "cells": [
  {
   "cell_type": "code",
   "execution_count": null,
   "metadata": {},
   "outputs": [],
   "source": [
    "import requests\n",
    "from pprint import pprint"
   ]
  },
  {
   "cell_type": "code",
   "execution_count": null,
   "metadata": {},
   "outputs": [],
   "source": [
    "# create a catalog\n",
    "share = requests.post('http://localhost:8080/catalogs', json={\n",
    "    'name': 'sharing_rs',\n",
    "    'comment': 'development catalog',\n",
    "}).json()\n",
    "pprint(share)"
   ]
  },
  {
   "cell_type": "code",
   "execution_count": null,
   "metadata": {},
   "outputs": [],
   "source": [
    "# create a catalog\n",
    "share = requests.post('http://localhost:8080/schemas', json={\n",
    "    'name': 'sharing_rs',\n",
    "    'comment': 'development schema',\n",
    "    'catalog_name': 'sharing_rs',\n",
    "}).json()\n",
    "pprint(share)"
   ]
  },
  {
   "cell_type": "code",
   "execution_count": null,
   "metadata": {},
   "outputs": [],
   "source": [
    "# create a credential\n",
    "cred = requests.post('http://localhost:8080/credentials', json={\n",
    "    'name': 'sharing_rs',\n",
    "    'comment': 'development credential',\n",
    "    'purpose': 'STORAGE',\n",
    "    'azure_service_principal': {\n",
    "        'directory_id': '72f988bf-86f1-41af-91ab-2d7cd011db47',\n",
    "        'application_id': '2c0b0e3d-2e5f-4c5f-8e0e-8e4b7b6e3c8d',\n",
    "        'client_secret': 'secret',\n",
    "    },\n",
    "}).json()\n",
    "pprint(cred)"
   ]
  },
  {
   "cell_type": "code",
   "execution_count": null,
   "metadata": {},
   "outputs": [],
   "source": [
    "# create an external location\n",
    "loc = requests.post('http://localhost:8080/external-locations', json={\n",
    "    'name': 'sharing_rs',\n",
    "    'comment': 'development location',\n",
    "    'purpose': 'STORAGE',\n",
    "    'credential_name': 'sharing_rs',\n",
    "    'url': 'https://sharingrs.blob.core.windows.net',\n",
    "}).json()\n",
    "pprint(loc)"
   ]
  },
  {
   "cell_type": "code",
   "execution_count": null,
   "metadata": {},
   "outputs": [],
   "source": [
    "# list shares\n",
    "shares = requests.get('http://localhost:8080/shares').json()\n",
    "pprint(shares)"
   ]
  },
  {
   "cell_type": "code",
   "execution_count": null,
   "metadata": {},
   "outputs": [],
   "source": [
    "# add a new share to the server\n",
    "share = requests.post('http://localhost:8080/shares', json={\n",
    "    'name': 'new_share',\n",
    "    'description': 'new share description',\n",
    "    'properties': {\n",
    "        'property1': 'value1',\n",
    "        'property2': 'value2',\n",
    "    }\n",
    "}).json()\n",
    "pprint(share)"
   ]
  },
  {
   "cell_type": "code",
   "execution_count": null,
   "metadata": {},
   "outputs": [],
   "source": [
    "# add a new schema to the server\n",
    "parent = \"new_share\"\n",
    "schema = requests.post(f'http://localhost:8080/shares/{parent}/schemas', json={\n",
    "    'name': 'new_schema',\n",
    "    'description': 'new schema description',\n",
    "    'properties': {\n",
    "        'property1': 'value1',\n",
    "        'property2': 'value2',\n",
    "    }\n",
    "}).json()\n",
    "pprint(schema)"
   ]
  },
  {
   "cell_type": "code",
   "execution_count": null,
   "metadata": {},
   "outputs": [],
   "source": [
    "# list schemas of a share\n",
    "parent = \"new_share\"\n",
    "schemas = requests.get(f'http://localhost:8080/shares/{parent}/schemas').json()\n",
    "pprint(schemas)"
   ]
  },
  {
   "cell_type": "code",
   "execution_count": null,
   "metadata": {},
   "outputs": [],
   "source": [
    "# delete schema\n",
    "parent = \"new_share\"\n",
    "schema = \"new_schema\"\n",
    "response = requests.delete(f'http://localhost:8080/shares/{parent}/schemas/{schema}')\n",
    "pprint(response)"
   ]
  },
  {
   "cell_type": "code",
   "execution_count": null,
   "metadata": {},
   "outputs": [],
   "source": [
    "# delete share\n",
    "share = \"new_share\"\n",
    "response = requests.delete(f'http://localhost:8080/shares/{share}')\n",
    "pprint(response)"
   ]
  },
  {
   "cell_type": "code",
   "execution_count": null,
   "metadata": {},
   "outputs": [],
   "source": [
    "# create a new catalog\n",
    "catalog = requests.post('http://localhost:8080/catalogs', json={\n",
    "    'name': 'new_catalog',\n",
    "    'comment': 'new catalog description',\n",
    "    'properties': {\n",
    "        'property1': 'value1',\n",
    "        'property2': 'value2',\n",
    "    }\n",
    "}).json()\n",
    "pprint(catalog)"
   ]
  },
  {
   "cell_type": "code",
   "execution_count": null,
   "metadata": {},
   "outputs": [],
   "source": [
    "# list catalogs\n",
    "catalogs = requests.get('http://localhost:8080/catalogs').json()\n",
    "pprint(catalogs)"
   ]
  },
  {
   "cell_type": "code",
   "execution_count": null,
   "metadata": {},
   "outputs": [],
   "source": [
    "# get catalog\n",
    "catalog = \"new_catalog\"\n",
    "response = requests.get(f'http://localhost:8080/catalogs/{catalog}').json()\n",
    "pprint(response)"
   ]
  },
  {
   "cell_type": "code",
   "execution_count": null,
   "metadata": {},
   "outputs": [],
   "source": [
    "# update catalog\n",
    "catalog = \"new_catalog\"\n",
    "response = requests.patch(f'http://localhost:8080/catalogs/{catalog}', json={\n",
    "    'new_name': 'new_catalog_updated',\n",
    "    'comment': 'new catalog description',\n",
    "    'properties': {\n",
    "        'property1': 'value1',\n",
    "        'property2': 'value2',\n",
    "    }\n",
    "}).json()\n",
    "pprint(response)"
   ]
  },
  {
   "cell_type": "code",
   "execution_count": null,
   "metadata": {},
   "outputs": [],
   "source": [
    "# delete catalog\n",
    "catalog = \"new_catalog\"\n",
    "response = requests.delete(f'http://localhost:8080/catalogs/{catalog}')\n",
    "pprint(response)"
   ]
  },
  {
   "cell_type": "code",
   "execution_count": null,
   "metadata": {},
   "outputs": [],
   "source": [
    "# create storage location\n",
    "location = requests.post(\n",
    "    \"http://localhost:8080/storage_locations\",\n",
    "    json={\n",
    "        \"location\": {\n",
    "            \"name\": \"new_location\",\n",
    "            \"description\": \"new location description\",\n",
    "            \"url\": \"http://localhost:10000\",\n",
    "            \"type\": \"STORAGE_TYPE_AZURE\",\n",
    "            \"credential\": \"some-credential\",\n",
    "            \"properties\": {\n",
    "                \"property1\": \"value1\",\n",
    "                \"property2\": \"value2\",\n",
    "            },\n",
    "        }\n",
    "    },\n",
    ").json()\n",
    "pprint(location)"
   ]
  },
  {
   "cell_type": "code",
   "execution_count": null,
   "metadata": {},
   "outputs": [],
   "source": [
    "# list storage locations\n",
    "locations = requests.get(\"http://localhost:8080/storage_locations\").json()\n",
    "pprint(locations)"
   ]
  }
 ],
 "metadata": {
  "kernelspec": {
   "display_name": ".venv",
   "language": "python",
   "name": "python3"
  },
  "language_info": {
   "codemirror_mode": {
    "name": "ipython",
    "version": 3
   },
   "file_extension": ".py",
   "mimetype": "text/x-python",
   "name": "python",
   "nbconvert_exporter": "python",
   "pygments_lexer": "ipython3",
   "version": "3.13.1"
  }
 },
 "nbformat": 4,
 "nbformat_minor": 2
}
