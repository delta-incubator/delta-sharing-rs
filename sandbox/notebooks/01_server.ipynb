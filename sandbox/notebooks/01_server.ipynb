{
 "cells": [
  {
   "cell_type": "code",
   "execution_count": null,
   "metadata": {},
   "outputs": [],
   "source": [
    "import requests"
   ]
  },
  {
   "cell_type": "code",
   "execution_count": null,
   "metadata": {},
   "outputs": [],
   "source": [
    "# list shares\n",
    "shares = requests.get('http://localhost:8080/shares').json()\n",
    "print(shares)"
   ]
  },
  {
   "cell_type": "code",
   "execution_count": null,
   "metadata": {},
   "outputs": [],
   "source": [
    "# add a new share to the server\n",
    "share = requests.post('http://localhost:8080/shares', json={\n",
    "    'name': 'new_share',\n",
    "    'description': 'new share description',\n",
    "    'properties': {\n",
    "        'property1': 'value1',\n",
    "        'property2': 'value2',\n",
    "    }\n",
    "}).json()\n",
    "print(share)"
   ]
  },
  {
   "cell_type": "code",
   "execution_count": null,
   "metadata": {},
   "outputs": [],
   "source": [
    "# add a new schema to the server\n",
    "parent = \"new_share\"\n",
    "schema = requests.post(f'http://localhost:8080/shares/{parent}/schemas', json={\n",
    "    'name': 'new_schema',\n",
    "    'description': 'new schema description',\n",
    "    'properties': {\n",
    "        'property1': 'value1',\n",
    "        'property2': 'value2',\n",
    "    }\n",
    "}).json()\n",
    "print(schema)"
   ]
  },
  {
   "cell_type": "code",
   "execution_count": null,
   "metadata": {},
   "outputs": [],
   "source": [
    "# list schemas of a share\n",
    "parent = \"new_share\"\n",
    "schemas = requests.get(f'http://localhost:8080/shares/{parent}/schemas').json()\n",
    "print(schemas)"
   ]
  },
  {
   "cell_type": "code",
   "execution_count": null,
   "metadata": {},
   "outputs": [],
   "source": [
    "# delete schema\n",
    "parent = \"new_share\"\n",
    "schema = \"new_schema\"\n",
    "response = requests.delete(f'http://localhost:8080/shares/{parent}/schemas/{schema}')\n",
    "print(response)"
   ]
  },
  {
   "cell_type": "code",
   "execution_count": null,
   "metadata": {},
   "outputs": [],
   "source": [
    "# delete share\n",
    "share = \"new_share\"\n",
    "response = requests.delete(f'http://localhost:8080/shares/{share}')\n",
    "print(response)"
   ]
  }
 ],
 "metadata": {
  "kernelspec": {
   "display_name": ".venv",
   "language": "python",
   "name": "python3"
  },
  "language_info": {
   "codemirror_mode": {
    "name": "ipython",
    "version": 3
   },
   "file_extension": ".py",
   "mimetype": "text/x-python",
   "name": "python",
   "nbconvert_exporter": "python",
   "pygments_lexer": "ipython3",
   "version": "3.13.1"
  }
 },
 "nbformat": 4,
 "nbformat_minor": 2
}
