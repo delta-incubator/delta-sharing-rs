{
 "cells": [
  {
   "cell_type": "markdown",
   "id": "c1c037f9",
   "metadata": {},
   "source": [
    "# Create Sharing Clinet"
   ]
  },
  {
   "cell_type": "code",
   "execution_count": null,
   "id": "5e10bd6f",
   "metadata": {},
   "outputs": [],
   "source": [
    "import delta_sharing\n",
    "\n",
    "profile_file = \"../creds/profile.json\"\n",
    "client = delta_sharing.SharingClient(profile_file)"
   ]
  },
  {
   "cell_type": "markdown",
   "id": "6c645b69",
   "metadata": {},
   "source": [
    "# List Tables"
   ]
  },
  {
   "cell_type": "code",
   "execution_count": null,
   "id": "fa3a7ae0",
   "metadata": {},
   "outputs": [],
   "source": [
    "client.list_all_tables()"
   ]
  },
  {
   "cell_type": "markdown",
   "id": "44089c61",
   "metadata": {},
   "source": [
    "# Load Tables"
   ]
  },
  {
   "cell_type": "code",
   "execution_count": null,
   "id": "8509002a",
   "metadata": {},
   "outputs": [],
   "source": [
    "table_url = profile_file + \"#share1.schema1.table1\"\n",
    "delta_sharing.load_as_pandas(table_url, limit=10)"
   ]
  }
 ],
 "metadata": {
  "kernelspec": {
   "display_name": "Python 3 (ipykernel)",
   "language": "python",
   "name": "python3"
  },
  "language_info": {
   "codemirror_mode": {
    "name": "ipython",
    "version": 3
   },
   "file_extension": ".py",
   "mimetype": "text/x-python",
   "name": "python",
   "nbconvert_exporter": "python",
   "pygments_lexer": "ipython3",
   "version": "3.11.2"
  }
 },
 "nbformat": 4,
 "nbformat_minor": 5
}
