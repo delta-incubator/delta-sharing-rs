{
 "cells": [
  {
   "cell_type": "code",
   "execution_count": null,
   "id": "4d53d007",
   "metadata": {},
   "outputs": [],
   "source": [
    "import os\n",
    "import glob\n",
    "import itertools\n",
    "from deltalake import write_deltalake\n",
    "import pandas as pd"
   ]
  },
  {
   "cell_type": "markdown",
   "id": "8c72a7a4",
   "metadata": {},
   "source": [
    "## Generate some data"
   ]
  },
  {
   "cell_type": "code",
   "execution_count": null,
   "id": "5c3cd0f4",
   "metadata": {},
   "outputs": [],
   "source": [
    "covid = pd.read_csv(\"../data/covid.csv\")\n",
    "write_deltalake(\"../data/covid-table\", covid)\n",
    "\n",
    "examination = pd.read_csv(\"../data/examination.csv\")\n",
    "write_deltalake(\"../data/examination-table\", examination)"
   ]
  },
  {
   "cell_type": "markdown",
   "id": "e26afff2",
   "metadata": {},
   "source": [
    "## Upload tables to GCS"
   ]
  },
  {
   "cell_type": "code",
   "execution_count": null,
   "id": "0160f62d",
   "metadata": {},
   "outputs": [],
   "source": [
    "from google.cloud import storage\n",
    "\n",
    "\n",
    "CLIENT_GCS = storage.Client()\n",
    "\n",
    "\n",
    "def upload_gcs(local_path, bucket, gcs_path):\n",
    "    assert os.path.isdir(local_path)\n",
    "    bucket = CLIENT_GCS.get_bucket(bucket)\n",
    "    for local_file in itertools.chain(\n",
    "        glob.glob(local_path + \"/**\"), glob.glob(local_path + \"/.**\")\n",
    "    ):\n",
    "        if not os.path.isfile(local_file):\n",
    "            upload_gcs(\n",
    "                local_file, bucket, gcs_path + \"/\" + os.path.basename(local_file)\n",
    "            )\n",
    "        else:\n",
    "            remote_path = os.path.join(gcs_path, os.path.basename(local_file))\n",
    "            blob = bucket.blob(remote_path)\n",
    "            blob.upload_from_filename(local_file)"
   ]
  },
  {
   "cell_type": "code",
   "execution_count": null,
   "id": "ba9850ad",
   "metadata": {},
   "outputs": [],
   "source": [
    "upload_gcs('../data/covid-table/', 'delta-sharing-test', 'covid')\n",
    "upload_gcs('../data/examination-table/', 'delta-sharing-test', 'examination')"
   ]
  },
  {
   "cell_type": "markdown",
   "id": "673b02a6",
   "metadata": {},
   "source": [
    "## Upload tables to S3"
   ]
  },
  {
   "cell_type": "code",
   "execution_count": null,
   "id": "cbe9fe2c",
   "metadata": {},
   "outputs": [],
   "source": [
    "import boto3\n",
    "\n",
    "CLIENT_S3 = boto3.client(\"s3\")\n",
    "\n",
    "\n",
    "def upload_s3(local_path, bucket, gcs_path):\n",
    "    assert os.path.isdir(local_path)\n",
    "    for local_file in itertools.chain(\n",
    "        glob.glob(local_path + \"/**\"), glob.glob(local_path + \"/.**\")\n",
    "    ):\n",
    "        if not os.path.isfile(local_file):\n",
    "            upload_s3(local_file, bucket, gcs_path + \"/\" + os.path.basename(local_file))\n",
    "        else:\n",
    "            remote_path = os.path.join(gcs_path, os.path.basename(local_file))\n",
    "            CLIENT_S3.upload_file(local_file, bucket, remote_path)"
   ]
  },
  {
   "cell_type": "code",
   "execution_count": null,
   "id": "f71bfb03",
   "metadata": {},
   "outputs": [],
   "source": [
    "upload_s3('../data/covid-table/', 'delta-sharing-test', 'covid')\n",
    "upload_s3('../data/examination-table/', 'delta-sharing-test', 'examination')"
   ]
  }
 ],
 "metadata": {
  "kernelspec": {
   "display_name": ".venv",
   "language": "python",
   "name": "python3"
  },
  "language_info": {
   "codemirror_mode": {
    "name": "ipython",
    "version": 3
   },
   "file_extension": ".py",
   "mimetype": "text/x-python",
   "name": "python",
   "nbconvert_exporter": "python",
   "pygments_lexer": "ipython3",
   "version": "3.13.1"
  }
 },
 "nbformat": 4,
 "nbformat_minor": 5
}
