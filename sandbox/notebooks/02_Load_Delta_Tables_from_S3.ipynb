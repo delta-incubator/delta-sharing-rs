{
 "cells": [
  {
   "cell_type": "markdown",
   "id": "7ded304a",
   "metadata": {},
   "source": [
    "# Create Sharing Clinet"
   ]
  },
  {
   "cell_type": "code",
   "execution_count": null,
   "id": "8de02a57",
   "metadata": {},
   "outputs": [],
   "source": [
    "import delta_sharing\n",
    "\n",
    "profile_file = \"../creds/profile.json\"\n",
    "client = delta_sharing.SharingClient(profile_file)"
   ]
  },
  {
   "cell_type": "markdown",
   "id": "a2ebc05b",
   "metadata": {},
   "source": [
    "# List Tables"
   ]
  },
  {
   "cell_type": "code",
   "execution_count": null,
   "id": "53acbae8",
   "metadata": {},
   "outputs": [],
   "source": [
    "client.list_all_tables()"
   ]
  },
  {
   "cell_type": "markdown",
   "id": "9705c538",
   "metadata": {},
   "source": [
    "# Load Tables"
   ]
  },
  {
   "cell_type": "code",
   "execution_count": null,
   "id": "ca350cd6",
   "metadata": {},
   "outputs": [],
   "source": [
    "table_url = profile_file + \"#share1.schema1.table1\"\n",
    "delta_sharing.load_as_pandas(table_url, limit=100)"
   ]
  }
 ],
 "metadata": {
  "kernelspec": {
   "display_name": "Python 3 (ipykernel)",
   "language": "python",
   "name": "python3"
  },
  "language_info": {
   "codemirror_mode": {
    "name": "ipython",
    "version": 3
   },
   "file_extension": ".py",
   "mimetype": "text/x-python",
   "name": "python",
   "nbconvert_exporter": "python",
   "pygments_lexer": "ipython3",
   "version": "3.8.13"
  }
 },
 "nbformat": 4,
 "nbformat_minor": 5
}
