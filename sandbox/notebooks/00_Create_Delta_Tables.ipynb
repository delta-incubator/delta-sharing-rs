{
 "cells": [
  {
   "cell_type": "markdown",
   "id": "e59ab4e9",
   "metadata": {},
   "source": [
    "# Load CSVs"
   ]
  },
  {
   "cell_type": "code",
   "execution_count": null,
   "id": "b2d3a174",
   "metadata": {},
   "outputs": [],
   "source": [
    "import pandas as pd\n",
    "\n",
    "covid = pd.read_csv('../data/covid.csv')\n",
    "covid"
   ]
  },
  {
   "cell_type": "code",
   "execution_count": null,
   "id": "c8eb2437",
   "metadata": {},
   "outputs": [],
   "source": [
    "examination = pd.read_csv('../data/examination.csv')\n",
    "examination"
   ]
  },
  {
   "cell_type": "markdown",
   "id": "5ca77d2d",
   "metadata": {},
   "source": [
    "# Create Delta Tables"
   ]
  },
  {
   "cell_type": "code",
   "execution_count": null,
   "id": "309a7f2c",
   "metadata": {},
   "outputs": [],
   "source": [
    "from deltalake.writer import write_deltalake\n",
    "\n",
    "write_deltalake('../data/covid-table', covid)\n",
    "write_deltalake('../data/examination-table', examination)"
   ]
  }
 ],
 "metadata": {
  "kernelspec": {
   "display_name": "Python 3 (ipykernel)",
   "language": "python",
   "name": "python3"
  },
  "language_info": {
   "codemirror_mode": {
    "name": "ipython",
    "version": 3
   },
   "file_extension": ".py",
   "mimetype": "text/x-python",
   "name": "python",
   "nbconvert_exporter": "python",
   "pygments_lexer": "ipython3",
   "version": "3.8.13"
  }
 },
 "nbformat": 4,
 "nbformat_minor": 5
}
